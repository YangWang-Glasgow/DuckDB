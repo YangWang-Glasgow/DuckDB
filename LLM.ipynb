{
 "cells": [
  {
   "cell_type": "markdown",
   "id": "e93be455-d84a-43d1-b9e1-5dc5f22ed6c7",
   "metadata": {},
   "source": [
    "# Use LLMs to query Database - *Text-to-Query*\n",
    "\n",
    "This notebook demonstrates a simple workflow which uses **Vanna** to turn English sentences into SQL.\n",
    "\n",
    "Large Language Models (LLMs) are getting increasingly popular. It is now possible to generate web applications, create apps and manipulate large-scale data using models like ChatGPT, Google Bard, and DALL-E.\n",
    "\n",
    "It is now also possible to build a *Text-to-Query* system using Natural Language Processing (NLP) techniques. \n",
    "\n",
    "I will \n",
    "\n",
    "* briefly introduce the concept using **Venna** as an example\n",
    "* then move back to the created DuckDB table for a small demonstration\n",
    "* finally, I want to highlight the challenges and limitations of using such a technique in the data analytics field. \n",
    "                                                                            \n"
   ]
  },
  {
   "attachments": {},
   "cell_type": "markdown",
   "id": "aa88e465-893d-4331-b64e-bef2864ba7e1",
   "metadata": {},
   "source": [
    "## Why **Venna**\n",
    "I select **Vanna** mainly for demonstration purposes. There are other solutions like  __[AWS + Claudev2](https://aws.amazon.com/blogs/machine-learning/build-a-robust-text-to-sql-solution-generating-complex-queries-self-correcting-and-querying-diverse-data-sources/)__ and __[LangChain](https://github.com/langchain-ai/langchain)__. The problem is they require API keys and they are not free. \n",
    "\n",
    "Vanna,  also requires an API key, including an OpenAI key, but it is available for free for at least one month.\n",
    "For more information about it please go to __[Venna.AI](https://vanna.ai/docs/postgres-openai-vanna-vannadb/)__\n",
    "Their GitHbub is __[https://github.com/vanna-ai/vanna](https://github.com/vanna-ai/vanna)__.\n",
    "Make sure you obtain your API key and model name according to \n",
    "* LLM = OpenAI via Vanna.AI (Recommended)\n",
    "* training data = Vanna Hosted Vector DB (Recommended)\n",
    "* Database = DuckDB\n",
    "\n",
    "\n",
    "![How Venna works](img/1_KZNioLcEiA0y-cYn-Astsg.webp)\n",
    "\n",
    "Now, let's look at how we query our listingGrpMonthly table using text.                                                                                                \n"
   ]
  },
  {
   "cell_type": "code",
   "execution_count": null,
   "id": "35c88936-c9bd-48e2-8463-9d8843d1da3b",
   "metadata": {},
   "outputs": [],
   "source": [
    "# %pip install vanna\n"
   ]
  },
  {
   "cell_type": "code",
   "execution_count": 2,
   "id": "f43f6a66-1231-48f5-9ff7-74b656b823c4",
   "metadata": {},
   "outputs": [],
   "source": [
    "import vanna\n",
    "from vanna.remote import VannaDefault"
   ]
  },
  {
   "cell_type": "markdown",
   "id": "4ff4eabc-df34-42e1-bc60-ed8e8efdaee5",
   "metadata": {},
   "source": [
    "Here we create a default **Vanna** default model. \n",
    "To use the specific model you created online in previous step, you specify your api_key and model_name."
   ]
  },
  {
   "cell_type": "code",
   "execution_count": 3,
   "id": "98bfa689-f957-477a-a7ee-c61328f7e0a5",
   "metadata": {},
   "outputs": [],
   "source": [
    "api_key = 'aa7f794af5d342d0a13c590204992cd0' # Your API key from https://vanna.ai/account/profile \n",
    "\n",
    "vanna_model_name ='yang_test' # Your model name from https://vanna.ai/account/profile \n",
    "vn = VannaDefault(model=vanna_model_name, api_key=api_key)"
   ]
  },
  {
   "cell_type": "markdown",
   "id": "cc1e7d53-d874-4a3b-9d1c-007cc94c179b",
   "metadata": {},
   "source": [
    "In case we mess up the database created in the previous step and demonstrate how you can retrieve extra data from another database. </br>\n",
    "Notice that we connect to a new database called 'dbtrain.db' first. </br>\n",
    "Then **Attach** the previous database, my_database3.db, and call it *duck*. </br>\n",
    "We **Create Table** *ListingIZMonthly* based on *listingGrpMonthly* in *duck*. </br>"
   ]
  },
  {
   "cell_type": "code",
   "execution_count": 4,
   "id": "4ce49cd2-8b72-49c2-93d9-b0db9ddd2e12",
   "metadata": {},
   "outputs": [
    {
     "data": {
      "text/plain": [
       "┌──────────────┐\n",
       "│ count_star() │\n",
       "│    int64     │\n",
       "├──────────────┤\n",
       "│         5396 │\n",
       "└──────────────┘"
      ]
     },
     "execution_count": 4,
     "metadata": {},
     "output_type": "execute_result"
    }
   ],
   "source": [
    "import duckdb as dd\n",
    "# con.close()\n",
    "con=dd.connect('my_database_exercise.db')\n",
    "con.sql('SHOW TABLES;')\n",
    "con.sql(\"select count(*) from listingGrpMonthly\")\n",
    "# con.close()"
   ]
  },
  {
   "cell_type": "code",
   "execution_count": 6,
   "id": "e5eb6fa2-d60c-4e86-ada7-e234c0cd82e5",
   "metadata": {},
   "outputs": [
    {
     "data": {
      "text/plain": [
       "┌──────────┬───────────┬───────┬─────────────────────────────────────────┬─────────────────────┐\n",
       "│ listings │   month   │ year  │            intermediateZone             │    listingRatio     │\n",
       "│  int64   │  varchar  │ int64 │                 varchar                 │       double        │\n",
       "├──────────┼───────────┼───────┼─────────────────────────────────────────┼─────────────────────┤\n",
       "│       37 │ April     │  2021 │ Craigleith, Orchard Brae and Crewe Toll │  1.7961165048543688 │\n",
       "│       14 │ April     │  2021 │ Gracemount, Southhouse and Burdiehouse  │   0.596252129471891 │\n",
       "│       32 │ April     │  2021 │ Prestonfield                            │  1.9047619047619049 │\n",
       "│        8 │ April     │  2021 │ Hyvots and Gilmerton                    │  0.5063291139240507 │\n",
       "│        7 │ April     │  2021 │ Currie East                             │  0.5498821681068342 │\n",
       "│       11 │ April     │  2021 │ South Gyle                              │   0.507380073800738 │\n",
       "│       22 │ April     │  2021 │ Corstorphine                            │  0.9124844462878473 │\n",
       "│      165 │ April     │  2021 │ New Town East and Gayfield              │  11.355815554026153 │\n",
       "│       71 │ April     │  2021 │ Leith (Albert Street)                   │  3.8274932614555257 │\n",
       "│       18 │ April     │  2021 │ Muirhouse                               │  0.7867132867132868 │\n",
       "│        · │   ·       │    ·  │     ·                                   │           ·         │\n",
       "│        · │   ·       │    ·  │     ·                                   │           ·         │\n",
       "│        · │   ·       │    ·  │     ·                                   │           ·         │\n",
       "│       13 │ September │  2024 │ Clovenstone and Wester Hailes           │  0.9167842031029618 │\n",
       "│       65 │ September │  2024 │ Pilrig                                  │   3.633314700950251 │\n",
       "│        4 │ September │  2024 │ Comiston and Swanston                   │   0.178491744756805 │\n",
       "│       17 │ September │  2024 │ Corstorphine South                      │  0.9052183173588925 │\n",
       "│      193 │ September │  2024 │ Hillside and Calton Hill                │   6.905187835420394 │\n",
       "│       13 │ September │  2024 │ Niddrie                                 │  0.6694129763130793 │\n",
       "│      109 │ September │  2024 │ Broughton South                         │   5.309303458353629 │\n",
       "│       26 │ September │  2024 │ Queensferry East                        │  1.2720156555772992 │\n",
       "│        6 │ September │  2024 │ Bingham, Magdalene and The Christians   │ 0.34285714285714286 │\n",
       "│       25 │ September │  2024 │ Trinity                                 │   1.201923076923077 │\n",
       "├──────────┴───────────┴───────┴─────────────────────────────────────────┴─────────────────────┤\n",
       "│ 5396 rows (20 shown)                                                               5 columns │\n",
       "└──────────────────────────────────────────────────────────────────────────────────────────────┘"
      ]
     },
     "execution_count": 6,
     "metadata": {},
     "output_type": "execute_result"
    }
   ],
   "source": [
    "import duckdb as dd\n",
    "con.close()\n",
    "con=dd.connect('dbtrain_exercise.db')\n",
    "con.sql('SHOW TABLES;')\n",
    "con.sql(\"\"\"SELECT database_name, path, type FROM duckdb_databases;\"\"\")\n",
    "\n",
    "con.sql(\"\"\"ATTACH 'duckdb:my_database_exercise.db' AS duck;\"\"\")\n",
    "con.sql(\"\"\"SELECT database_name, path, type FROM duckdb_databases;\"\"\")\n",
    "\n",
    "con.sql(\"\"\"CREATE TABLE listingIZMonthly as FROM duck.listingGrpMonthly;\"\"\")\n",
    "con.sql(\"\"\"DETACH duck\"\"\")\n",
    "\n",
    "con.sql(\"\"\"show tables;\"\"\")\n",
    "con.sql(\"\"\"select * from listingIZMonthly\"\"\")\n"
   ]
  },
  {
   "cell_type": "markdown",
   "id": "f25f6beb-8f87-4b2a-a503-e1e086bda4c7",
   "metadata": {},
   "source": [
    "Now, we can see in the new *dbtrain.db*, there is a new table called *ListingIZMonthly*. "
   ]
  },
  {
   "cell_type": "code",
   "execution_count": 7,
   "id": "ea051b0e-8090-4247-9014-4c1b7b3f31ce",
   "metadata": {},
   "outputs": [
    {
     "data": {
      "text/plain": [
       "┌──────────────────┐\n",
       "│       name       │\n",
       "│     varchar      │\n",
       "├──────────────────┤\n",
       "│ listingIZMonthly │\n",
       "└──────────────────┘"
      ]
     },
     "execution_count": 7,
     "metadata": {},
     "output_type": "execute_result"
    }
   ],
   "source": [
    "con.sql(\"\"\"show tables;\"\"\")"
   ]
  },
  {
   "cell_type": "markdown",
   "id": "45c95116-c45d-4be9-8f2d-31c75d13a8c5",
   "metadata": {},
   "source": [
    "Now, we are ready to build the model. First, we connect the dbtrain.db to our Vanna model."
   ]
  },
  {
   "cell_type": "code",
   "execution_count": 8,
   "id": "20192ada-fff1-4411-9d56-7ba7dfb43b7a",
   "metadata": {},
   "outputs": [
    {
     "name": "stdout",
     "output_type": "stream",
     "text": [
      "True\n"
     ]
    }
   ],
   "source": [
    "vn.connect_to_duckdb('dbtrain_exercise.db')\n"
   ]
  },
  {
   "cell_type": "code",
   "execution_count": 9,
   "id": "aa7d2182-9e35-49e5-9587-4e47dafd20c5",
   "metadata": {},
   "outputs": [
    {
     "data": {
      "text/plain": [
       "┌──────────────────┐\n",
       "│       name       │\n",
       "│     varchar      │\n",
       "├──────────────────┤\n",
       "│ listingIZMonthly │\n",
       "└──────────────────┘"
      ]
     },
     "execution_count": 9,
     "metadata": {},
     "output_type": "execute_result"
    }
   ],
   "source": [
    "con.sql(\"\"\"show tables;\"\"\")"
   ]
  },
  {
   "cell_type": "code",
   "execution_count": 10,
   "id": "39a9daac-6370-4571-85e3-f145ea36e652",
   "metadata": {},
   "outputs": [
    {
     "data": {
      "text/plain": [
       "┌──────────┬───────────┬───────┬─────────────────────────────────────────┬─────────────────────┐\n",
       "│ listings │   month   │ year  │            intermediateZone             │    listingRatio     │\n",
       "│  int64   │  varchar  │ int64 │                 varchar                 │       double        │\n",
       "├──────────┼───────────┼───────┼─────────────────────────────────────────┼─────────────────────┤\n",
       "│       37 │ April     │  2021 │ Craigleith, Orchard Brae and Crewe Toll │  1.7961165048543688 │\n",
       "│       14 │ April     │  2021 │ Gracemount, Southhouse and Burdiehouse  │   0.596252129471891 │\n",
       "│       32 │ April     │  2021 │ Prestonfield                            │  1.9047619047619049 │\n",
       "│        8 │ April     │  2021 │ Hyvots and Gilmerton                    │  0.5063291139240507 │\n",
       "│        7 │ April     │  2021 │ Currie East                             │  0.5498821681068342 │\n",
       "│       11 │ April     │  2021 │ South Gyle                              │   0.507380073800738 │\n",
       "│       22 │ April     │  2021 │ Corstorphine                            │  0.9124844462878473 │\n",
       "│      165 │ April     │  2021 │ New Town East and Gayfield              │  11.355815554026153 │\n",
       "│       71 │ April     │  2021 │ Leith (Albert Street)                   │  3.8274932614555257 │\n",
       "│       18 │ April     │  2021 │ Muirhouse                               │  0.7867132867132868 │\n",
       "│        · │   ·       │    ·  │     ·                                   │           ·         │\n",
       "│        · │   ·       │    ·  │     ·                                   │           ·         │\n",
       "│        · │   ·       │    ·  │     ·                                   │           ·         │\n",
       "│       13 │ September │  2024 │ Clovenstone and Wester Hailes           │  0.9167842031029618 │\n",
       "│       65 │ September │  2024 │ Pilrig                                  │   3.633314700950251 │\n",
       "│        4 │ September │  2024 │ Comiston and Swanston                   │   0.178491744756805 │\n",
       "│       17 │ September │  2024 │ Corstorphine South                      │  0.9052183173588925 │\n",
       "│      193 │ September │  2024 │ Hillside and Calton Hill                │   6.905187835420394 │\n",
       "│       13 │ September │  2024 │ Niddrie                                 │  0.6694129763130793 │\n",
       "│      109 │ September │  2024 │ Broughton South                         │   5.309303458353629 │\n",
       "│       26 │ September │  2024 │ Queensferry East                        │  1.2720156555772992 │\n",
       "│        6 │ September │  2024 │ Bingham, Magdalene and The Christians   │ 0.34285714285714286 │\n",
       "│       25 │ September │  2024 │ Trinity                                 │   1.201923076923077 │\n",
       "├──────────┴───────────┴───────┴─────────────────────────────────────────┴─────────────────────┤\n",
       "│ 5396 rows (20 shown)                                                               5 columns │\n",
       "└──────────────────────────────────────────────────────────────────────────────────────────────┘"
      ]
     },
     "execution_count": 10,
     "metadata": {},
     "output_type": "execute_result"
    }
   ],
   "source": [
    "con.sql(\"\"\"select * from listingIZMonthly \"\"\")"
   ]
  },
  {
   "cell_type": "markdown",
   "id": "bb4613f4-d25a-4a3e-aeb2-799df85c6f00",
   "metadata": {},
   "source": [
    "After reminding us what is inside the *listingIZMonthly* table, we start to organize a key query which is used to retrieve information from the table. </br>\n",
    "We want to show the listing density at a monthly basis."
   ]
  },
  {
   "cell_type": "code",
   "execution_count": 11,
   "id": "9deab7ba-b7d6-4406-9c51-33e424a62a8c",
   "metadata": {},
   "outputs": [
    {
     "data": {
      "text/plain": [
       "┌─────────┬───────┬─────────────────────┬───────────────────────────────────────────┐\n",
       "│  month  │ year  │    listingRatio     │             intermediateZone              │\n",
       "│ varchar │ int64 │       double        │                  varchar                  │\n",
       "├─────────┼───────┼─────────────────────┼───────────────────────────────────────────┤\n",
       "│ May     │  2023 │ 0.11074197120708748 │ Fairmilehead                              │\n",
       "│ May     │  2023 │   0.291970802919708 │ East Craigs South                         │\n",
       "│ May     │  2023 │  0.3142183817753339 │ Currie East                               │\n",
       "│ May     │  2023 │   0.326530612244898 │ Mortonhall and Anwickhill                 │\n",
       "│ May     │  2023 │  0.3811944091486658 │ Barnton, Cammo and Cramond South          │\n",
       "│ May     │  2023 │ 0.47343503419253025 │ East Craigs North                         │\n",
       "│ May     │  2023 │  0.4908522980812137 │ Comiston and Swanston                     │\n",
       "│ May     │  2023 │  0.5096262740656852 │ Longstone and Saughton                    │\n",
       "│ May     │  2023 │  0.5253940455341506 │ Mountcastle                               │\n",
       "│ May     │  2023 │  0.5312868949232585 │ Baberton and Juniper Green                │\n",
       "│  ·      │    ·  │           ·         │        ·                                  │\n",
       "│  ·      │    ·  │           ·         │        ·                                  │\n",
       "│  ·      │    ·  │           ·         │        ·                                  │\n",
       "│ May     │  2023 │   7.598636142230881 │ Broughton South                           │\n",
       "│ May     │  2023 │    8.40557859027516 │ Meadows and Southside                     │\n",
       "│ May     │  2023 │    8.41889117043121 │ Abbeyhill                                 │\n",
       "│ May     │  2023 │   9.260539046302695 │ Canongate, Southside and Dumbiedykes      │\n",
       "│ May     │  2023 │    9.30232558139535 │ Hillside and Calton Hill                  │\n",
       "│ May     │  2023 │  12.445045654379438 │ Tollcross                                 │\n",
       "│ May     │  2023 │  13.145216792842396 │ New Town East and Gayfield                │\n",
       "│ May     │  2023 │  13.410804020100503 │ Deans Village                             │\n",
       "│ May     │  2023 │   14.37435367114788 │ New Town West                             │\n",
       "│ May     │  2023 │  30.897138437741685 │ Old Town, Princes Street and Leith Street │\n",
       "├─────────┴───────┴─────────────────────┴───────────────────────────────────────────┤\n",
       "│ 111 rows (20 shown)                                                     4 columns │\n",
       "└───────────────────────────────────────────────────────────────────────────────────┘"
      ]
     },
     "execution_count": 11,
     "metadata": {},
     "output_type": "execute_result"
    }
   ],
   "source": [
    "con.sql(\"\"\"\n",
    "select month, year, listingRatio, intermediateZone from listingIZMonthly\n",
    "where month='May' and year=2023\n",
    "order by listingRatio asc\n",
    "\"\"\")\n"
   ]
  },
  {
   "cell_type": "code",
   "execution_count": null,
   "id": "39c3589c-6571-4396-9013-83876de71023",
   "metadata": {},
   "outputs": [],
   "source": [
    "# not needed as the table created in this way\n",
    "# con.sql(\"\"\"ALTER TABLE listingIZMonthly RENAME dm TO month;\"\"\")\n",
    "# con.sql(\"\"\"ALTER TABLE listingIZMonthly RENAME dy TO year;\"\"\")\n",
    "# con.sql(\"\"\"ALTER TABLE listingIZMonthly ADD COLUMN ratioOfListings FLOAT DEFAULT (listings/HH)*100;\"\"\")\n",
    "# con.sql(\"\"\"ALTER TABLE listingIZMonthly RENAME Name TO IntermediateZone;\"\"\")\n",
    "\n"
   ]
  },
  {
   "cell_type": "code",
   "execution_count": 12,
   "id": "296a9812-e862-4eb3-875f-c84b81d2e6b7",
   "metadata": {},
   "outputs": [
    {
     "data": {
      "text/html": [
       "<div>\n",
       "<style scoped>\n",
       "    .dataframe tbody tr th:only-of-type {\n",
       "        vertical-align: middle;\n",
       "    }\n",
       "\n",
       "    .dataframe tbody tr th {\n",
       "        vertical-align: top;\n",
       "    }\n",
       "\n",
       "    .dataframe thead th {\n",
       "        text-align: right;\n",
       "    }\n",
       "</style>\n",
       "<table border=\"1\" class=\"dataframe\">\n",
       "  <thead>\n",
       "    <tr style=\"text-align: right;\">\n",
       "      <th></th>\n",
       "      <th>table_catalog</th>\n",
       "      <th>table_schema</th>\n",
       "      <th>table_name</th>\n",
       "      <th>column_name</th>\n",
       "      <th>ordinal_position</th>\n",
       "      <th>column_default</th>\n",
       "      <th>is_nullable</th>\n",
       "      <th>data_type</th>\n",
       "      <th>character_maximum_length</th>\n",
       "      <th>character_octet_length</th>\n",
       "      <th>...</th>\n",
       "      <th>identity_generation</th>\n",
       "      <th>identity_start</th>\n",
       "      <th>identity_increment</th>\n",
       "      <th>identity_maximum</th>\n",
       "      <th>identity_minimum</th>\n",
       "      <th>identity_cycle</th>\n",
       "      <th>is_generated</th>\n",
       "      <th>generation_expression</th>\n",
       "      <th>is_updatable</th>\n",
       "      <th>COLUMN_COMMENT</th>\n",
       "    </tr>\n",
       "  </thead>\n",
       "  <tbody>\n",
       "    <tr>\n",
       "      <th>0</th>\n",
       "      <td>dbtrain_exercise</td>\n",
       "      <td>main</td>\n",
       "      <td>listingIZMonthly</td>\n",
       "      <td>listings</td>\n",
       "      <td>1</td>\n",
       "      <td>None</td>\n",
       "      <td>YES</td>\n",
       "      <td>BIGINT</td>\n",
       "      <td>NaN</td>\n",
       "      <td>NaN</td>\n",
       "      <td>...</td>\n",
       "      <td>None</td>\n",
       "      <td>None</td>\n",
       "      <td>None</td>\n",
       "      <td>None</td>\n",
       "      <td>None</td>\n",
       "      <td>NaN</td>\n",
       "      <td>None</td>\n",
       "      <td>None</td>\n",
       "      <td>NaN</td>\n",
       "      <td>None</td>\n",
       "    </tr>\n",
       "    <tr>\n",
       "      <th>1</th>\n",
       "      <td>dbtrain_exercise</td>\n",
       "      <td>main</td>\n",
       "      <td>listingIZMonthly</td>\n",
       "      <td>month</td>\n",
       "      <td>2</td>\n",
       "      <td>None</td>\n",
       "      <td>YES</td>\n",
       "      <td>VARCHAR</td>\n",
       "      <td>NaN</td>\n",
       "      <td>NaN</td>\n",
       "      <td>...</td>\n",
       "      <td>None</td>\n",
       "      <td>None</td>\n",
       "      <td>None</td>\n",
       "      <td>None</td>\n",
       "      <td>None</td>\n",
       "      <td>NaN</td>\n",
       "      <td>None</td>\n",
       "      <td>None</td>\n",
       "      <td>NaN</td>\n",
       "      <td>None</td>\n",
       "    </tr>\n",
       "    <tr>\n",
       "      <th>2</th>\n",
       "      <td>dbtrain_exercise</td>\n",
       "      <td>main</td>\n",
       "      <td>listingIZMonthly</td>\n",
       "      <td>year</td>\n",
       "      <td>3</td>\n",
       "      <td>None</td>\n",
       "      <td>YES</td>\n",
       "      <td>BIGINT</td>\n",
       "      <td>NaN</td>\n",
       "      <td>NaN</td>\n",
       "      <td>...</td>\n",
       "      <td>None</td>\n",
       "      <td>None</td>\n",
       "      <td>None</td>\n",
       "      <td>None</td>\n",
       "      <td>None</td>\n",
       "      <td>NaN</td>\n",
       "      <td>None</td>\n",
       "      <td>None</td>\n",
       "      <td>NaN</td>\n",
       "      <td>None</td>\n",
       "    </tr>\n",
       "    <tr>\n",
       "      <th>3</th>\n",
       "      <td>dbtrain_exercise</td>\n",
       "      <td>main</td>\n",
       "      <td>listingIZMonthly</td>\n",
       "      <td>intermediateZone</td>\n",
       "      <td>4</td>\n",
       "      <td>None</td>\n",
       "      <td>YES</td>\n",
       "      <td>VARCHAR</td>\n",
       "      <td>NaN</td>\n",
       "      <td>NaN</td>\n",
       "      <td>...</td>\n",
       "      <td>None</td>\n",
       "      <td>None</td>\n",
       "      <td>None</td>\n",
       "      <td>None</td>\n",
       "      <td>None</td>\n",
       "      <td>NaN</td>\n",
       "      <td>None</td>\n",
       "      <td>None</td>\n",
       "      <td>NaN</td>\n",
       "      <td>None</td>\n",
       "    </tr>\n",
       "    <tr>\n",
       "      <th>4</th>\n",
       "      <td>dbtrain_exercise</td>\n",
       "      <td>main</td>\n",
       "      <td>listingIZMonthly</td>\n",
       "      <td>listingRatio</td>\n",
       "      <td>5</td>\n",
       "      <td>None</td>\n",
       "      <td>YES</td>\n",
       "      <td>DOUBLE</td>\n",
       "      <td>NaN</td>\n",
       "      <td>NaN</td>\n",
       "      <td>...</td>\n",
       "      <td>None</td>\n",
       "      <td>None</td>\n",
       "      <td>None</td>\n",
       "      <td>None</td>\n",
       "      <td>None</td>\n",
       "      <td>NaN</td>\n",
       "      <td>None</td>\n",
       "      <td>None</td>\n",
       "      <td>NaN</td>\n",
       "      <td>None</td>\n",
       "    </tr>\n",
       "  </tbody>\n",
       "</table>\n",
       "<p>5 rows × 45 columns</p>\n",
       "</div>"
      ],
      "text/plain": [
       "      table_catalog table_schema        table_name       column_name  \\\n",
       "0  dbtrain_exercise         main  listingIZMonthly          listings   \n",
       "1  dbtrain_exercise         main  listingIZMonthly             month   \n",
       "2  dbtrain_exercise         main  listingIZMonthly              year   \n",
       "3  dbtrain_exercise         main  listingIZMonthly  intermediateZone   \n",
       "4  dbtrain_exercise         main  listingIZMonthly      listingRatio   \n",
       "\n",
       "   ordinal_position column_default is_nullable data_type  \\\n",
       "0                 1           None         YES    BIGINT   \n",
       "1                 2           None         YES   VARCHAR   \n",
       "2                 3           None         YES    BIGINT   \n",
       "3                 4           None         YES   VARCHAR   \n",
       "4                 5           None         YES    DOUBLE   \n",
       "\n",
       "   character_maximum_length  character_octet_length  ...  identity_generation  \\\n",
       "0                       NaN                     NaN  ...                 None   \n",
       "1                       NaN                     NaN  ...                 None   \n",
       "2                       NaN                     NaN  ...                 None   \n",
       "3                       NaN                     NaN  ...                 None   \n",
       "4                       NaN                     NaN  ...                 None   \n",
       "\n",
       "   identity_start  identity_increment  identity_maximum identity_minimum  \\\n",
       "0            None                None              None             None   \n",
       "1            None                None              None             None   \n",
       "2            None                None              None             None   \n",
       "3            None                None              None             None   \n",
       "4            None                None              None             None   \n",
       "\n",
       "   identity_cycle is_generated generation_expression is_updatable  \\\n",
       "0             NaN         None                  None          NaN   \n",
       "1             NaN         None                  None          NaN   \n",
       "2             NaN         None                  None          NaN   \n",
       "3             NaN         None                  None          NaN   \n",
       "4             NaN         None                  None          NaN   \n",
       "\n",
       "  COLUMN_COMMENT  \n",
       "0           None  \n",
       "1           None  \n",
       "2           None  \n",
       "3           None  \n",
       "4           None  \n",
       "\n",
       "[5 rows x 45 columns]"
      ]
     },
     "execution_count": 12,
     "metadata": {},
     "output_type": "execute_result"
    }
   ],
   "source": [
    "vn.run_sql(\"SELECT * FROM INFORMATION_SCHEMA.COLUMNS\")"
   ]
  },
  {
   "cell_type": "markdown",
   "id": "ba12a8cf-eb2e-4719-acf8-c099dacf7646",
   "metadata": {},
   "source": [
    "The schema of the database is very simple. We decide to use it as the generic training plan. </br>\n",
    "If you have a very complicated schema, e.g. several tables with keys joining them, you may consider the part which is useful to the model. "
   ]
  },
  {
   "cell_type": "code",
   "execution_count": 13,
   "id": "3bd49436-f3d4-4929-9a56-613f70f848fe",
   "metadata": {},
   "outputs": [],
   "source": [
    "# The information schema query may need some tweaking depending on your database. This is a good starting point.\n",
    "df_information_schema = vn.run_sql(\"SELECT * FROM INFORMATION_SCHEMA.COLUMNS\")\n",
    "\n",
    "# This will break up the information schema into bite-sized chunks that can be referenced by the LLM\n",
    "plan = vn.get_training_plan_generic(df_information_schema)\n",
    "plan\n",
    "\n",
    "# If you like the plan, then uncomment this and run it to train\n",
    "vn.train(plan=plan)"
   ]
  },
  {
   "cell_type": "markdown",
   "id": "62797499-ffd5-4c0b-bb4f-0c97daf6b6e0",
   "metadata": {},
   "source": [
    "Our main training data is the *listingIZMonthly* table which shall be passed as ddl."
   ]
  },
  {
   "cell_type": "code",
   "execution_count": 14,
   "id": "42dba6bf-82fc-4854-bd86-7e3d1c95b909",
   "metadata": {},
   "outputs": [
    {
     "name": "stdout",
     "output_type": "stream",
     "text": [
      "Adding ddl: DESCRIBE SELECT * FROM listingIZMonthly;\n"
     ]
    },
    {
     "data": {
      "text/plain": [
       "'495684-ddl'"
      ]
     },
     "execution_count": 14,
     "metadata": {},
     "output_type": "execute_result"
    }
   ],
   "source": [
    "vn.train(ddl=\"DESCRIBE SELECT * FROM listingIZMonthly;\")"
   ]
  },
  {
   "cell_type": "markdown",
   "id": "5df7607b-9a61-4d7d-ae16-de23b95ac7ca",
   "metadata": {},
   "source": [
    "We then create a text vs sql pair as the training set. \n",
    "This part is critical for the LLM to match the embeddings between text and sql sentences. "
   ]
  },
  {
   "cell_type": "code",
   "execution_count": 15,
   "id": "3378c3e1-e9a9-4dda-8ac9-a75156409d68",
   "metadata": {},
   "outputs": [
    {
     "data": {
      "text/plain": [
       "'4ff618b2b0448cc1b570f35ce6af1e55-sql'"
      ]
     },
     "execution_count": 15,
     "metadata": {},
     "output_type": "execute_result"
    }
   ],
   "source": [
    "# here is an example of training on SQL statements\n",
    "# In the listing ratio query of listingIZMonthly table.\n",
    "vn.train(\n",
    "question=\"listingRatio in intermediateZone every month\"\n",
    ",sql=\"\"\"\n",
    "    select month, year, listingRatio, intermediateZone from listingIZMonthly\n",
    "    order by listingRatio asc\n",
    ";\n",
    "\"\"\")"
   ]
  },
  {
   "cell_type": "markdown",
   "id": "b023470b-76f9-42c7-b622-1e19c937f9c5",
   "metadata": {},
   "source": [
    "We also can add a document as another form of training set. "
   ]
  },
  {
   "cell_type": "code",
   "execution_count": 16,
   "id": "db9ca3af-f7f3-4302-b4bf-df9d6ca09bba",
   "metadata": {},
   "outputs": [
    {
     "name": "stdout",
     "output_type": "stream",
     "text": [
      "Adding documentation....\n"
     ]
    },
    {
     "data": {
      "text/plain": [
       "'3124640-doc'"
      ]
     },
     "execution_count": 16,
     "metadata": {},
     "output_type": "execute_result"
    }
   ],
   "source": [
    "vn.train(documentation=\"The ratio of listings in intermediate zones (IZs)\")"
   ]
  },
  {
   "cell_type": "markdown",
   "id": "32527bf6-3963-4397-a142-61456389406e",
   "metadata": {},
   "source": [
    "After these simple training steps, we are ready to run our model.</br>\n",
    "We want to ask for some information about the listing ratio in different time frames and intermediate zones.</br\n",
    "You will see some details about the transformation of query and data.</br>\n",
    "An output is an SQL sentence the model generated based on the prompt."
   ]
  },
  {
   "cell_type": "code",
   "execution_count": 28,
   "id": "fc752170-4720-4ea5-a227-bb934717f6a5",
   "metadata": {},
   "outputs": [
    {
     "name": "stdout",
     "output_type": "stream",
     "text": [
      "SQL Prompt: [{'role': 'system', 'content': \"You are a DuckDB SQL expert. Please help to generate a SQL query to answer the question. Your response should ONLY be based on the given context and follow the response guidelines and format instructions. \\n===Tables \\nDESCRIBE SELECT * FROM listingIZMonthly;\\n\\nDESCRIBE SELECT * FROM listingIZMonthly;\\n\\nDESCRIBE SELECT * FROM listingIZMonthly;\\n\\nDESCRIBE SELECT * FROM listingIZMonthly;\\n\\nDESCRIBE SELECT * FROM listingIZMonthly;\\n\\nDESCRIBE SELECT * FROM listingIZMonthly;\\n\\nDESCRIBE SELECT * FROM listingIZMonthly;\\n\\nDESCRIBE SELECT * FROM listingIZMonthly;\\n\\nDESCRIBE SELECT * FROM listingGrpMonthly;\\n\\nDESCRIBE SELECT * FROM listingGrpMonthly;\\n\\n\\n===Additional Context \\n\\nThe ratio of listings in intermediate zones (IZs) over time\\n\\nThe ratio of listings in intermediate zones (IZs) over time\\n\\nThe ratio of listings in intermediate zones (IZs) over time\\n\\nThe ratio of listings in intermediate zones (IZs) over time\\n\\nThe ratio of listings in intermediate zones (IZs) over time\\n\\nThe ratio of listings in intermediate zones (IZs) over time\\n\\nThe ratio of listings in intermediate zones (IZs) over time\\n\\nThe ratio of listings in intermediate zones (IZs) over time\\n\\nThe ratio of listings in intermediate zones (IZs)\\n\\nThe ratio of listings in intermediate zones (IZs)\\n\\n===Response Guidelines \\n1. If the provided context is sufficient, please generate a valid SQL query without any explanations for the question. \\n2. If the provided context is almost sufficient but requires knowledge of a specific string in a particular column, please generate an intermediate SQL query to find the distinct strings in that column. Prepend the query with a comment saying intermediate_sql \\n3. If the provided context is insufficient, please explain why it can't be generated. \\n4. Please use the most relevant table(s). \\n5. If the question has been asked and answered before, please repeat the answer exactly as it was given before. \\n6. Ensure that the output SQL is DuckDB SQL-compliant and executable, and free of syntax errors. \\n\"}, {'role': 'user', 'content': 'Which intermediateZone had the highest listingRatio in year 2021?'}, {'role': 'assistant', 'content': 'SELECT intermediateZone\\nFROM listingIZMonthly\\nWHERE year = 2021\\nORDER BY listingRatio DESC\\nLIMIT 1;'}, {'role': 'user', 'content': 'Which intermediateZone had the highest listingRatio in April year 2021?'}, {'role': 'assistant', 'content': \"SELECT intermediateZone\\nFROM listingIZMonthly\\nWHERE month = 'April' AND year = 2021\\nORDER BY listingRatio DESC\\nLIMIT 1;\"}, {'role': 'user', 'content': 'Which intermediateZone had the lowest listingRatio in 2021? what is the month?'}, {'role': 'assistant', 'content': 'WITH LowestListingRatio AS (\\n    SELECT intermediateZone, month, year, listingRatio\\n    FROM listingIZMonthly\\n    WHERE year = 2021\\n    ORDER BY listingRatio\\n    LIMIT 1\\n)\\nSELECT intermediateZone, month\\nFROM LowestListingRatio;'}, {'role': 'user', 'content': 'Which intermediateZone had the lowest listingRatio in 2020? what is the month?'}, {'role': 'assistant', 'content': 'WITH LowestListingRatio AS (\\n    SELECT intermediateZone, month, year, listingRatio\\n    FROM listingIZMonthly\\n    WHERE year = 2020\\n    ORDER BY listingRatio\\n    LIMIT 1\\n)\\nSELECT intermediateZone, month\\nFROM LowestListingRatio;'}, {'role': 'user', 'content': 'Which intermediateZone had the lowest listingRatio in all the years? what is the month?'}, {'role': 'assistant', 'content': 'WITH MinListingRatio AS (\\n    SELECT intermediateZone, month, year, listingRatio\\n    FROM listingIZMonthly\\n    ORDER BY listingRatio\\n    LIMIT 1\\n)\\nSELECT intermediateZone, month\\nFROM MinListingRatio;'}, {'role': 'user', 'content': 'Which intermediateZone had the lowest listingRatio in all the years?'}, {'role': 'assistant', 'content': 'SELECT intermediateZone\\nFROM listingIZMonthly\\nORDER BY listingRatio\\nLIMIT 1;'}, {'role': 'user', 'content': 'Which intermediateZone had the lowest listingRatio in all the years? what is the month and year?'}, {'role': 'assistant', 'content': 'WITH MinListingRatio AS (\\n    SELECT intermediateZone, month, year, listingRatio\\n    FROM listingIZMonthly\\n    ORDER BY listingRatio\\n    LIMIT 1\\n)\\nSELECT intermediateZone, month, year, listingRatio\\nFROM MinListingRatio;'}, {'role': 'user', 'content': 'listingRatio in intermediateZone every month'}, {'role': 'assistant', 'content': '\\n    select month, year, listingRatio, intermediateZone from listingIZMonthly\\n    order by listingRatio asc\\n;\\n'}, {'role': 'user', 'content': 'Calculate listings in intermediate zone (IZs) every month?'}, {'role': 'assistant', 'content': '\\n    WITH IZCountLsts AS (\\n\\n      Select lsts.listing_id, lsts.timestemp_date , IZs.Name, IZs.HHCnt2011 from \\n        (\\n            (SELECT * from listings_proj) as lsts\\n                JOIN \\n            (Select * from IZs_Gen) as IZs                               \\n            ON ST_intersects(Lsts.geometry, IZs.geometry)     \\n        ) limit 5000\\n    )\\nSELECT\\n    count(distinct izcl.listing_id), monthname(cast(timestemp_date as date)) as dm, year(cast(timestemp_date as date)) as dy, izcl.Name, izcl.HHCnt2011 as HH\\nFROM\\n    IZCountLsts as izcl\\ngroup by \\n    Name, dm,dy,HH\\nOrder by \\n    dm,dy\\n;\\n'}, {'role': 'user', 'content': 'Which IZ had the highest ratio of listings in April 2021?'}, {'role': 'assistant', 'content': 'SELECT DISTINCT Name\\nFROM IZs_Gen;'}, {'role': 'user', 'content': 'Which intermediateZone had the highest listingRatio in 2020? what is the month?'}]\n",
      "LLM Response: SELECT intermediateZone, month\n",
      "FROM listingIZMonthly\n",
      "WHERE year = 2020\n",
      "ORDER BY listingRatio DESC\n",
      "LIMIT 1;\n",
      "Extracted SQL: SELECT intermediateZone, month\n",
      "FROM listingIZMonthly\n",
      "WHERE year = 2020\n",
      "ORDER BY listingRatio DESC\n",
      "LIMIT 1;\n",
      "SELECT intermediateZone, month\n",
      "FROM listingIZMonthly\n",
      "WHERE year = 2020\n",
      "ORDER BY listingRatio DESC\n",
      "LIMIT 1;\n",
      "                            intermediateZone     month\n",
      "0  Old Town, Princes Street and Leith Street  December\n"
     ]
    },
    {
     "data": {
      "text/plain": [
       "('SELECT intermediateZone, month\\nFROM listingIZMonthly\\nWHERE year = 2020\\nORDER BY listingRatio DESC\\nLIMIT 1;',\n",
       "                             intermediateZone     month\n",
       " 0  Old Town, Princes Street and Leith Street  December,\n",
       " None)"
      ]
     },
     "execution_count": 28,
     "metadata": {},
     "output_type": "execute_result"
    }
   ],
   "source": [
    "vn.ask(\"Which intermediateZone had the highest listingRatio in 2020? what is the month?\", visualize=False,allow_llm_to_see_data=True)\n"
   ]
  },
  {
   "cell_type": "markdown",
   "id": "148e3eac-aa30-4c0a-85f2-ddfd798daf66",
   "metadata": {},
   "source": [
    "We can execute the query in DuckDB to see if the result is correct. "
   ]
  },
  {
   "cell_type": "code",
   "execution_count": 30,
   "id": "4475c5b7-45b7-4046-8557-efa4c330f18c",
   "metadata": {},
   "outputs": [
    {
     "data": {
      "text/plain": [
       "┌───────────────────────────────────────────┬──────────┐\n",
       "│             intermediateZone              │  month   │\n",
       "│                  varchar                  │ varchar  │\n",
       "├───────────────────────────────────────────┼──────────┤\n",
       "│ Old Town, Princes Street and Leith Street │ December │\n",
       "└───────────────────────────────────────────┴──────────┘"
      ]
     },
     "execution_count": 30,
     "metadata": {},
     "output_type": "execute_result"
    }
   ],
   "source": [
    "# con.sql(\"\"\"\n",
    "# SELECT listingRatio,intermediateZone, year, month\n",
    "# FROM listingIZMonthly\n",
    "# where year=2021\n",
    "# ORDER BY listingRatio \n",
    "# ;\n",
    "# \"\"\")\n",
    "# LIMIT 1;\n",
    "\n",
    "con.sql(\"\"\"\n",
    "SELECT intermediateZone, month FROM listingIZMonthly WHERE year = 2020 ORDER BY listingRatio DESC LIMIT 1;\n",
    "\"\"\")"
   ]
  },
  {
   "cell_type": "code",
   "execution_count": null,
   "id": "5520425d-b8d6-4975-bc97-f3c41b8a86a7",
   "metadata": {},
   "outputs": [
    {
     "name": "stdout",
     "output_type": "stream",
     "text": [
      "Your app is running at:\n",
      "http://localhost:8084\n",
      " * Serving Flask app 'vanna.flask'\n",
      " * Debug mode: on\n",
      "None\n",
      "None\n"
     ]
    }
   ],
   "source": [
    "from vanna.flask import VannaFlaskApp\n",
    "app = VannaFlaskApp(vn)\n",
    "app.run()"
   ]
  },
  {
   "cell_type": "markdown",
   "id": "232e1cbe-da82-4a93-b117-75da1bef643d",
   "metadata": {},
   "source": [
    "# Some final reflections\n",
    "We demonstrated how databases can be queried by plain language questions through Text-to-Query technique.  </b>\n",
    "This technique is still developing along with LLMs.  </b>\n",
    "Before considering using these models, you also need to know the challenges and limitations. </b>\n",
    "\n",
    "* Hallucinations </br>\n",
    "A model generates output that is not based on the provided context or facts. For text-to-SQL tasks, this means the system creates SQL queries referencing non-existent columns, tables, or filters.</br>\n",
    "The latest techniques to fix this include clarifying schema, Retrieval-Augmented Generation (RAG), Reasoning + Acting (ReAct) and Chain of Thought (CoT), etc.</b>\n",
    "\n",
    "* Preformance </br>\n",
    "Different SQL queries can produce the same result. This leads to challenges in calculating the efficiency of AI-generated SQL. </br>\n",
    "Query large databases easily increase unexpected costs to use LLMs. \n",
    "Hard to implement models in multi-disciplinary teams, e.g directly use spatial joins in the example. \n",
    "\n",
    "* Security </br>\n",
    "Generating SQL from NLP often requires access to the local data, e.g. 'allow_llm_to_see_data' in Vanna. </br>\n",
    "Using public LLM is not an option. Running a local LLM also comprises security. LLM can be manipulated to reveal sensitive user information. \n",
    "\n",
    "Now, it is your turn for some exercise. </b>\n",
    "Please \n",
    "* use the explore different training data based on **listing per KM area** for each intermediate zone per month year;\n",
    "* try spatial SQLs if you have time;\n",
    "* Anyone wants to try vectorDB? \n",
    "\n",
    "## Reference \n",
    "https://medium.com/wrenai/reducing-hallucinations-in-text-to-sql-building-trust-and-accuracy-in-data-access-176ac636e208 </br>\n",
    "    \n",
    "https://medium.com/wrenai/reducing-hallucinations-in-text-to-sql-building-trust-and-accuracy-in-data-access-176ac636e208 </b>\n",
    "\n",
    "https://www.k2view.com/blog/llm-text-to-sql/#Reducing-the-risks-of-LLM-text-to-SQL-models"
   ]
  }
 ],
 "metadata": {
  "kernelspec": {
   "display_name": "Python 3 (ipykernel)",
   "language": "python",
   "name": "python3"
  },
  "language_info": {
   "codemirror_mode": {
    "name": "ipython",
    "version": 3
   },
   "file_extension": ".py",
   "mimetype": "text/x-python",
   "name": "python",
   "nbconvert_exporter": "python",
   "pygments_lexer": "ipython3",
   "version": "3.13.1"
  }
 },
 "nbformat": 4,
 "nbformat_minor": 5
}
