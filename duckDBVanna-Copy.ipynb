{
 "cells": [
  {
   "cell_type": "code",
   "execution_count": null,
   "id": "b8640f70-bff0-44ec-9298-45ffe2ba8a3c",
   "metadata": {},
   "outputs": [],
   "source": [
    "# %pip install vanna\n"
   ]
  },
  {
   "cell_type": "code",
   "execution_count": 1,
   "id": "3a526b4e-5a75-46a2-903f-8e69e252bc94",
   "metadata": {},
   "outputs": [],
   "source": [
    "import vanna\n",
    "from vanna.remote import VannaDefault"
   ]
  },
  {
   "cell_type": "code",
   "execution_count": 2,
   "id": "6383e2f0-ce6c-4d52-8946-8a161d203a89",
   "metadata": {},
   "outputs": [],
   "source": [
    "api_key = 'aa7f794af5d342d0a13c590204992cd0' # Your API key from https://vanna.ai/account/profile \n",
    "\n",
    "vanna_model_name ='yang_test' # Your model name from https://vanna.ai/account/profile \n",
    "vn = VannaDefault(model=vanna_model_name, api_key=api_key)"
   ]
  },
  {
   "cell_type": "code",
   "execution_count": 3,
   "id": "4c4789da-ac3a-4050-a14f-39bf93bce2f7",
   "metadata": {},
   "outputs": [],
   "source": [
    "vn.connect_to_duckdb(url=':memory:')\n"
   ]
  },
  {
   "cell_type": "code",
   "execution_count": 4,
   "id": "f47f3180-aeb1-472e-8763-9aeb4d2ab61f",
   "metadata": {},
   "outputs": [
    {
     "data": {
      "text/html": [
       "<div>\n",
       "<style scoped>\n",
       "    .dataframe tbody tr th:only-of-type {\n",
       "        vertical-align: middle;\n",
       "    }\n",
       "\n",
       "    .dataframe tbody tr th {\n",
       "        vertical-align: top;\n",
       "    }\n",
       "\n",
       "    .dataframe thead th {\n",
       "        text-align: right;\n",
       "    }\n",
       "</style>\n",
       "<table border=\"1\" class=\"dataframe\">\n",
       "  <thead>\n",
       "    <tr style=\"text-align: right;\">\n",
       "      <th></th>\n",
       "      <th>State</th>\n",
       "      <th>Company</th>\n",
       "      <th>Address</th>\n",
       "      <th>Number of Workers</th>\n",
       "      <th>Received Date</th>\n",
       "      <th>Effective Date</th>\n",
       "      <th>Layoff/Closure</th>\n",
       "      <th>Temporary/Permanent</th>\n",
       "      <th>Union</th>\n",
       "      <th>Region</th>\n",
       "      <th>County</th>\n",
       "      <th>Industry</th>\n",
       "      <th>Notes</th>\n",
       "    </tr>\n",
       "  </thead>\n",
       "  <tbody>\n",
       "    <tr>\n",
       "      <th>0</th>\n",
       "      <td>California</td>\n",
       "      <td>Republic National Distributing Company, LLC</td>\n",
       "      <td>5100 Franklin Drive  Pleasanton CA 94588</td>\n",
       "      <td>60.0</td>\n",
       "      <td>2025-01-09</td>\n",
       "      <td>2025-03-08</td>\n",
       "      <td>Layoff Permanent</td>\n",
       "      <td>None</td>\n",
       "      <td>None</td>\n",
       "      <td>None</td>\n",
       "      <td>Alameda County</td>\n",
       "      <td>42 Wholesale Trade</td>\n",
       "      <td>None</td>\n",
       "    </tr>\n",
       "    <tr>\n",
       "      <th>1</th>\n",
       "      <td>California</td>\n",
       "      <td>Guitar Center, Inc.</td>\n",
       "      <td>10831 W. Pico Blvd.  Los Angeles CA 90064</td>\n",
       "      <td>43.0</td>\n",
       "      <td>2025-01-09</td>\n",
       "      <td>2025-03-10</td>\n",
       "      <td>Closure Permanent</td>\n",
       "      <td>None</td>\n",
       "      <td>None</td>\n",
       "      <td>None</td>\n",
       "      <td>Los Angeles County</td>\n",
       "      <td>44-45 Retail Trade</td>\n",
       "      <td>None</td>\n",
       "    </tr>\n",
       "    <tr>\n",
       "      <th>2</th>\n",
       "      <td>California</td>\n",
       "      <td>Qualcomm Incorporated</td>\n",
       "      <td>5775 Morehouse Drive  San Diego CA 92121</td>\n",
       "      <td>50.0</td>\n",
       "      <td>2025-01-09</td>\n",
       "      <td>2025-03-10</td>\n",
       "      <td>Layoff Permanent</td>\n",
       "      <td>None</td>\n",
       "      <td>None</td>\n",
       "      <td>None</td>\n",
       "      <td>San Diego County</td>\n",
       "      <td>55 Management of Companies and Enterprises</td>\n",
       "      <td>None</td>\n",
       "    </tr>\n",
       "    <tr>\n",
       "      <th>3</th>\n",
       "      <td>California</td>\n",
       "      <td>Guitar Center, Inc.</td>\n",
       "      <td>6910 Automall Pkwy  Gilroy CA 95020</td>\n",
       "      <td>19.0</td>\n",
       "      <td>2025-01-09</td>\n",
       "      <td>2025-03-10</td>\n",
       "      <td>Closure Permanent</td>\n",
       "      <td>None</td>\n",
       "      <td>None</td>\n",
       "      <td>None</td>\n",
       "      <td>Santa Clara County</td>\n",
       "      <td>44-45 Retail Trade</td>\n",
       "      <td>None</td>\n",
       "    </tr>\n",
       "    <tr>\n",
       "      <th>4</th>\n",
       "      <td>California</td>\n",
       "      <td>Summit Interconnect</td>\n",
       "      <td>3506 W. Lake Center Drive #A  Santa Ana CA 92704</td>\n",
       "      <td>74.0</td>\n",
       "      <td>2025-01-09</td>\n",
       "      <td>2025-03-31</td>\n",
       "      <td>Closure Permanent</td>\n",
       "      <td>None</td>\n",
       "      <td>None</td>\n",
       "      <td>None</td>\n",
       "      <td>Orange County</td>\n",
       "      <td>31-33 Manufacturing</td>\n",
       "      <td>None</td>\n",
       "    </tr>\n",
       "    <tr>\n",
       "      <th>...</th>\n",
       "      <td>...</td>\n",
       "      <td>...</td>\n",
       "      <td>...</td>\n",
       "      <td>...</td>\n",
       "      <td>...</td>\n",
       "      <td>...</td>\n",
       "      <td>...</td>\n",
       "      <td>...</td>\n",
       "      <td>...</td>\n",
       "      <td>...</td>\n",
       "      <td>...</td>\n",
       "      <td>...</td>\n",
       "      <td>...</td>\n",
       "    </tr>\n",
       "    <tr>\n",
       "      <th>20394</th>\n",
       "      <td>California</td>\n",
       "      <td>The Boeing Company</td>\n",
       "      <td>Huntington Beach</td>\n",
       "      <td>7.0</td>\n",
       "      <td>2009-01-01</td>\n",
       "      <td>NaT</td>\n",
       "      <td>None</td>\n",
       "      <td>None</td>\n",
       "      <td>None</td>\n",
       "      <td>None</td>\n",
       "      <td>None</td>\n",
       "      <td>None</td>\n",
       "      <td>None</td>\n",
       "    </tr>\n",
       "    <tr>\n",
       "      <th>20395</th>\n",
       "      <td>California</td>\n",
       "      <td>The Boeing Company</td>\n",
       "      <td>Huntington Beach</td>\n",
       "      <td>12.0</td>\n",
       "      <td>2009-01-01</td>\n",
       "      <td>NaT</td>\n",
       "      <td>None</td>\n",
       "      <td>None</td>\n",
       "      <td>None</td>\n",
       "      <td>None</td>\n",
       "      <td>None</td>\n",
       "      <td>None</td>\n",
       "      <td>None</td>\n",
       "    </tr>\n",
       "    <tr>\n",
       "      <th>20396</th>\n",
       "      <td>California</td>\n",
       "      <td>The Boeing Company</td>\n",
       "      <td>Long Beach</td>\n",
       "      <td>47.0</td>\n",
       "      <td>2009-01-01</td>\n",
       "      <td>NaT</td>\n",
       "      <td>None</td>\n",
       "      <td>None</td>\n",
       "      <td>None</td>\n",
       "      <td>None</td>\n",
       "      <td>None</td>\n",
       "      <td>None</td>\n",
       "      <td>None</td>\n",
       "    </tr>\n",
       "    <tr>\n",
       "      <th>20397</th>\n",
       "      <td>California</td>\n",
       "      <td>The Boeing Company</td>\n",
       "      <td>Long Beach</td>\n",
       "      <td>3.0</td>\n",
       "      <td>2009-01-01</td>\n",
       "      <td>NaT</td>\n",
       "      <td>None</td>\n",
       "      <td>None</td>\n",
       "      <td>None</td>\n",
       "      <td>None</td>\n",
       "      <td>None</td>\n",
       "      <td>None</td>\n",
       "      <td>None</td>\n",
       "    </tr>\n",
       "    <tr>\n",
       "      <th>20398</th>\n",
       "      <td>California</td>\n",
       "      <td>Virgin Mobile Usa</td>\n",
       "      <td>Walnut Creek</td>\n",
       "      <td>192.0</td>\n",
       "      <td>2009-01-01</td>\n",
       "      <td>NaT</td>\n",
       "      <td>None</td>\n",
       "      <td>None</td>\n",
       "      <td>None</td>\n",
       "      <td>None</td>\n",
       "      <td>None</td>\n",
       "      <td>None</td>\n",
       "      <td>None</td>\n",
       "    </tr>\n",
       "  </tbody>\n",
       "</table>\n",
       "<p>20399 rows × 13 columns</p>\n",
       "</div>"
      ],
      "text/plain": [
       "            State                                      Company  \\\n",
       "0      California  Republic National Distributing Company, LLC   \n",
       "1      California                          Guitar Center, Inc.   \n",
       "2      California                        Qualcomm Incorporated   \n",
       "3      California                          Guitar Center, Inc.   \n",
       "4      California                          Summit Interconnect   \n",
       "...           ...                                          ...   \n",
       "20394  California                           The Boeing Company   \n",
       "20395  California                           The Boeing Company   \n",
       "20396  California                           The Boeing Company   \n",
       "20397  California                           The Boeing Company   \n",
       "20398  California                            Virgin Mobile Usa   \n",
       "\n",
       "                                                Address  Number of Workers  \\\n",
       "0              5100 Franklin Drive  Pleasanton CA 94588               60.0   \n",
       "1             10831 W. Pico Blvd.  Los Angeles CA 90064               43.0   \n",
       "2              5775 Morehouse Drive  San Diego CA 92121               50.0   \n",
       "3                   6910 Automall Pkwy  Gilroy CA 95020               19.0   \n",
       "4      3506 W. Lake Center Drive #A  Santa Ana CA 92704               74.0   \n",
       "...                                                 ...                ...   \n",
       "20394                                  Huntington Beach                7.0   \n",
       "20395                                  Huntington Beach               12.0   \n",
       "20396                                        Long Beach               47.0   \n",
       "20397                                        Long Beach                3.0   \n",
       "20398                                      Walnut Creek              192.0   \n",
       "\n",
       "      Received Date Effective Date     Layoff/Closure Temporary/Permanent  \\\n",
       "0        2025-01-09     2025-03-08   Layoff Permanent                None   \n",
       "1        2025-01-09     2025-03-10  Closure Permanent                None   \n",
       "2        2025-01-09     2025-03-10   Layoff Permanent                None   \n",
       "3        2025-01-09     2025-03-10  Closure Permanent                None   \n",
       "4        2025-01-09     2025-03-31  Closure Permanent                None   \n",
       "...             ...            ...                ...                 ...   \n",
       "20394    2009-01-01            NaT               None                None   \n",
       "20395    2009-01-01            NaT               None                None   \n",
       "20396    2009-01-01            NaT               None                None   \n",
       "20397    2009-01-01            NaT               None                None   \n",
       "20398    2009-01-01            NaT               None                None   \n",
       "\n",
       "      Union Region              County  \\\n",
       "0      None   None      Alameda County   \n",
       "1      None   None  Los Angeles County   \n",
       "2      None   None    San Diego County   \n",
       "3      None   None  Santa Clara County   \n",
       "4      None   None       Orange County   \n",
       "...     ...    ...                 ...   \n",
       "20394  None   None                None   \n",
       "20395  None   None                None   \n",
       "20396  None   None                None   \n",
       "20397  None   None                None   \n",
       "20398  None   None                None   \n",
       "\n",
       "                                         Industry Notes  \n",
       "0                              42 Wholesale Trade  None  \n",
       "1                              44-45 Retail Trade  None  \n",
       "2      55 Management of Companies and Enterprises  None  \n",
       "3                              44-45 Retail Trade  None  \n",
       "4                             31-33 Manufacturing  None  \n",
       "...                                           ...   ...  \n",
       "20394                                        None  None  \n",
       "20395                                        None  None  \n",
       "20396                                        None  None  \n",
       "20397                                        None  None  \n",
       "20398                                        None  None  \n",
       "\n",
       "[20399 rows x 13 columns]"
      ]
     },
     "execution_count": 4,
     "metadata": {},
     "output_type": "execute_result"
    }
   ],
   "source": [
    "# running the CSV import command with the name of your file\n",
    "# After downloading place the file in the same directory as the Python/Jupyter Script\n",
    "# This will Create a Table with contents of the CSV and select it\n",
    "vn.run_sql(\"\"\"CREATE TABLE WARN_test AS SELECT * FROM 'WARN.csv';\n",
    "SELECT * FROM WARN_test\n",
    "\"\"\")"
   ]
  },
  {
   "cell_type": "code",
   "execution_count": 6,
   "id": "b5f0123a-c5ed-4b7b-9dfa-9e6c7ab97bc0",
   "metadata": {},
   "outputs": [],
   "source": [
    "# The information schema query may need some tweaking depending on your database. This is a good starting point.\n",
    "df_information_schema = vn.run_sql(\"SELECT * FROM INFORMATION_SCHEMA.COLUMNS\")\n",
    "\n",
    "# This will break up the information schema into bite-sized chunks that can be referenced by the LLM\n",
    "plan = vn.get_training_plan_generic(df_information_schema)\n",
    "plan\n",
    "\n",
    "# If you like the plan, then uncomment this and run it to train\n",
    "vn.train(plan=plan)"
   ]
  },
  {
   "cell_type": "code",
   "execution_count": 7,
   "id": "2160f100-33bd-4df8-a7dd-2b55caa585a0",
   "metadata": {},
   "outputs": [
    {
     "name": "stdout",
     "output_type": "stream",
     "text": [
      "Adding ddl: DESCRIBE SELECT * FROM WARN_test\n"
     ]
    },
    {
     "data": {
      "text/plain": [
       "'465193-ddl'"
      ]
     },
     "execution_count": 7,
     "metadata": {},
     "output_type": "execute_result"
    }
   ],
   "source": [
    "# In duckDB the describe statement can fetch the DDL for any table\n",
    "vn.train(ddl=\"DESCRIBE SELECT * FROM WARN_test\")"
   ]
  },
  {
   "cell_type": "code",
   "execution_count": 8,
   "id": "4bfc45e6-a371-488b-8cd2-0adbe7b3c260",
   "metadata": {},
   "outputs": [
    {
     "data": {
      "text/plain": [
       "'c198c12b80070272539c02059cde9f7e-sql'"
      ]
     },
     "execution_count": 8,
     "metadata": {},
     "output_type": "execute_result"
    }
   ],
   "source": [
    "# here is an example of training on SQL statements\n",
    "# In the WARN Dataset number of workers are total laid off.\n",
    "vn.train(\n",
    "question=\"Calculate the total number of workers?\"\n",
    ",sql=\"\"\"SELECT SUM(CAST(\"Number of Workers\" AS INTEGER)) AS Total_Number_of_Workers\n",
    "FROM WARN_test\n",
    "\"\"\")"
   ]
  },
  {
   "cell_type": "code",
   "execution_count": 9,
   "id": "c78c013c-05d0-4c90-97c8-00f806edc108",
   "metadata": {},
   "outputs": [
    {
     "name": "stdout",
     "output_type": "stream",
     "text": [
      "Adding documentation....\n"
     ]
    },
    {
     "data": {
      "text/plain": [
       "'2844437-doc'"
      ]
     },
     "execution_count": 9,
     "metadata": {},
     "output_type": "execute_result"
    }
   ],
   "source": [
    "# We can use documentation to give explicit context that you would give to a data analyst\n",
    "vn.train(documentation=\"The number of worker's column corresponds to people laid off\")"
   ]
  },
  {
   "cell_type": "code",
   "execution_count": 10,
   "id": "2c0511f8-368f-4b27-b26e-7ce3b858719e",
   "metadata": {},
   "outputs": [
    {
     "name": "stdout",
     "output_type": "stream",
     "text": [
      "SQL Prompt: [{'role': 'system', 'content': \"You are a DuckDB SQL expert. Please help to generate a SQL query to answer the question. Your response should ONLY be based on the given context and follow the response guidelines and format instructions. \\n===Tables \\nDESCRIBE SELECT * FROM Stackoverflow.users;\\n\\nDESCRIBE SELECT * FROM listings\\n\\nDESCRIBE SELECT * FROM WARN_test\\n\\nDESCRIBE SELECT * FROM WARN_test\\n\\nDESCRIBE SELECT * FROM WARN_test\\n\\nDESCRIBE SELECT * FROM WARN_test\\n\\nDESCRIBE SELECT * FROM WARN_test\\n\\nDESCRIBE SELECT * FROM table_name\\n\\n\\n    CREATE TABLE IF NOT EXISTS my-table (\\n        id INT PRIMARY KEY,\\n        name VARCHAR(100),\\n        age INT\\n    )\\n\\n\\n\\n===Additional Context \\n\\nThe number of worker's column corresponds to people laid off\\n\\nThe number of worker's column corresponds to people laid off\\n\\nThe number of worker's column corresponds to people laid off\\n\\nThe number of worker's column corresponds to people laid off\\n\\nThe number of worker's column corresponds to people laid off\\n\\nThe number of worker's column corresponds to people laid off\\n\\nThe number of listings\\n\\nThe number of listings\\n\\nWe call the user with the highest answers in a year the Grand master\\n\\nOur business defines OTIF score as the percentage of orders that are delivered on time and in full\\n\\n===Response Guidelines \\n1. If the provided context is sufficient, please generate a valid SQL query without any explanations for the question. \\n2. If the provided context is almost sufficient but requires knowledge of a specific string in a particular column, please generate an intermediate SQL query to find the distinct strings in that column. Prepend the query with a comment saying intermediate_sql \\n3. If the provided context is insufficient, please explain why it can't be generated. \\n4. Please use the most relevant table(s). \\n5. If the question has been asked and answered before, please repeat the answer exactly as it was given before. \\n6. Ensure that the output SQL is DuckDB SQL-compliant and executable, and free of syntax errors. \\n\"}, {'role': 'user', 'content': 'Which Company did the most amount of layoffs?'}, {'role': 'assistant', 'content': 'SELECT Company, SUM(CAST(\"Number of Workers\" AS INTEGER)) AS Total_Layoffs\\nFROM WARN_test\\nGROUP BY Company\\nORDER BY Total_Layoffs DESC\\nLIMIT 1;'}, {'role': 'user', 'content': 'Find the user with the highest amount of downvotes?'}, {'role': 'assistant', 'content': 'SELECT Id, DownVotes\\nFROM stackoverflow.main.users\\nORDER BY DownVotes DESC\\nLIMIT 1;'}, {'role': 'user', 'content': 'which listing_id has highest records?'}, {'role': 'assistant', 'content': 'SELECT listing_id, COUNT(*) AS record_count\\nFROM listings\\nGROUP BY listing_id\\nORDER BY record_count DESC\\nLIMIT 1;'}, {'role': 'user', 'content': 'Calculate the total number of workers?'}, {'role': 'assistant', 'content': 'SELECT SUM(CAST(\"Number of Workers\" AS INTEGER)) AS Total_Number_of_Workers\\nFROM WARN_DATASET\\n'}, {'role': 'user', 'content': 'Calculate the total number of listings?'}, {'role': 'assistant', 'content': 'SELECT DISTINCT listing_id FROM listings\\n'}, {'role': 'user', 'content': 'which listing_id has lowest records?'}, {'role': 'assistant', 'content': 'WITH listing_records_count AS (\\n    SELECT listing_id, COUNT(*) AS record_count\\n    FROM listings\\n    GROUP BY listing_id\\n)\\nSELECT listing_id, record_count\\nFROM listing_records_count\\nORDER BY record_count ASC\\nLIMIT 1;'}, {'role': 'user', 'content': 'Calculate lowerest appeared listing id?'}, {'role': 'assistant', 'content': 'WITH listing_records_count AS (\\n    SELECT listing_id, COUNT(*) AS record_count\\n    FROM listings\\n    GROUP BY listing_id\\n)\\nSELECT listing_id, record_count\\nFROM listing_records_count\\nORDER BY record_count ASC\\nLIMIT 10'}, {'role': 'user', 'content': 'What are the top 10 users with highest amount of Badges?'}, {'role': 'assistant', 'content': 'SELECT UserId, COUNT(*) AS badge_count\\nFROM stackoverflow.main.badges\\nGROUP BY UserId\\nORDER BY badge_count DESC\\nLIMIT 10\\n'}, {'role': 'user', 'content': \"What information do we have on the individual with the name 'John Doe'?\"}, {'role': 'assistant', 'content': \"SELECT * FROM my-table WHERE name = 'John Doe'\"}, {'role': 'user', 'content': 'Find the top 10 users with the highest amount of Badges?'}, {'role': 'assistant', 'content': 'SELECT UserId, COUNT(*) AS badge_count\\nFROM stackoverflow.main.badges\\nGROUP BY UserId\\nORDER BY badge_count DESC\\nLIMIT 10'}, {'role': 'user', 'content': 'Which Company did the most amount of layoffs?'}]\n",
      "LLM Response: SELECT Company, SUM(CAST(\"Number of Workers\" AS INTEGER)) AS Total_Layoffs\n",
      "FROM WARN_test\n",
      "GROUP BY Company\n",
      "ORDER BY Total_Layoffs DESC\n",
      "LIMIT 1;\n",
      "Extracted SQL: SELECT Company, SUM(CAST(\"Number of Workers\" AS INTEGER)) AS Total_Layoffs\n",
      "FROM WARN_test\n",
      "GROUP BY Company\n",
      "ORDER BY Total_Layoffs DESC\n",
      "LIMIT 1;\n",
      "SELECT Company, SUM(CAST(\"Number of Workers\" AS INTEGER)) AS Total_Layoffs\n",
      "FROM WARN_test\n",
      "GROUP BY Company\n",
      "ORDER BY Total_Layoffs DESC\n",
      "LIMIT 1;\n",
      "      Company  Total_Layoffs\n",
      "0  Tesla, Inc        11083.0\n"
     ]
    },
    {
     "data": {
      "text/plain": [
       "('SELECT Company, SUM(CAST(\"Number of Workers\" AS INTEGER)) AS Total_Layoffs\\nFROM WARN_test\\nGROUP BY Company\\nORDER BY Total_Layoffs DESC\\nLIMIT 1;',\n",
       "       Company  Total_Layoffs\n",
       " 0  Tesla, Inc        11083.0,\n",
       " None)"
      ]
     },
     "execution_count": 10,
     "metadata": {},
     "output_type": "execute_result"
    }
   ],
   "source": [
    "vn.ask(\"Which Company did the most amount of layoffs?\", visualize=False)\n"
   ]
  },
  {
   "cell_type": "code",
   "execution_count": null,
   "id": "e3995461-7ed7-4aae-9dbe-56075d2e0c1b",
   "metadata": {},
   "outputs": [
    {
     "name": "stdout",
     "output_type": "stream",
     "text": [
      "Your app is running at:\n",
      "http://localhost:8084\n",
      " * Serving Flask app 'vanna.flask'\n",
      " * Debug mode: on\n",
      "None\n",
      "None\n"
     ]
    }
   ],
   "source": [
    "from vanna.flask import VannaFlaskApp\n",
    "app = VannaFlaskApp(vn)\n",
    "app.run()"
   ]
  },
  {
   "cell_type": "code",
   "execution_count": null,
   "id": "20d5e8c7-0d31-4386-b125-22b97d8a11a2",
   "metadata": {},
   "outputs": [],
   "source": []
  }
 ],
 "metadata": {
  "kernelspec": {
   "display_name": "Python 3 (ipykernel)",
   "language": "python",
   "name": "python3"
  },
  "language_info": {
   "codemirror_mode": {
    "name": "ipython",
    "version": 3
   },
   "file_extension": ".py",
   "mimetype": "text/x-python",
   "name": "python",
   "nbconvert_exporter": "python",
   "pygments_lexer": "ipython3",
   "version": "3.13.1"
  }
 },
 "nbformat": 4,
 "nbformat_minor": 5
}
